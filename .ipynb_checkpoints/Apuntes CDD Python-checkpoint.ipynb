{
 "cells": [
  {
   "cell_type": "markdown",
   "id": "33683a0b",
   "metadata": {},
   "source": [
    "# Apuntes de clases y tareas de Python\n",
    "\n",
    "Provenientes de curso \"Ciencia de Datos con Python\" ofertado por SciData\n",
    "\n"
   ]
  },
  {
   "cell_type": "code",
   "execution_count": 2,
   "id": "e59b40bb",
   "metadata": {},
   "outputs": [
    {
     "name": "stdout",
     "output_type": "stream",
     "text": [
      "Tania\n"
     ]
    }
   ],
   "source": [
    "nombre = [\"Tania\", \"Diana\", \"Ale\", \"Daniel\"]\n",
    "edad = [\"33\", \"24\", \"22\", \"26\"]\n",
    "mascota = [\"gato\", \"gato\", \"perro\", \"cotorro\"]\n",
    "\n",
    "print (nombre[0])"
   ]
  }
 ],
 "metadata": {
  "kernelspec": {
   "display_name": "Python 3 (ipykernel)",
   "language": "python",
   "name": "python3"
  },
  "language_info": {
   "codemirror_mode": {
    "name": "ipython",
    "version": 3
   },
   "file_extension": ".py",
   "mimetype": "text/x-python",
   "name": "python",
   "nbconvert_exporter": "python",
   "pygments_lexer": "ipython3",
   "version": "3.10.0"
  }
 },
 "nbformat": 4,
 "nbformat_minor": 5
}
